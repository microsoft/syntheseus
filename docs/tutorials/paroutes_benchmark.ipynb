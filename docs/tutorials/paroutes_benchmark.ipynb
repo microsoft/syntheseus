{
 "cells": [
  {
   "cell_type": "markdown",
   "id": "0ee7dba4-df57-472d-85c8-f9dbc5a50066",
   "metadata": {},
   "source": [
    "In this in-depth tutorial, we use `syntheseus` to run part of the PaRoutes search benchmark.\n",
    "This tutorial will focus on the details of configuring search algorithms and analyzing search results.\n",
    "Note that the entire PaRoutes benchmark contains $10\\,000$ test molecules,\n",
    "but to allow the tutorial to run quickly we will only use a single test molecule.\n",
    "\n",
    "This tutorial uses a 3rd party wrapper for the PaRoutes benchmark,\n",
    "available at: <https://github.com/AustinT/syntheseus-paroutes>.\n",
    "\n",
    "It can be installed by cloning the repository and adding it to `PYTHONPATH`,\n",
    "or directly running:\n",
    "\n",
    "```bash\n",
    "pip install syntheseus-paroutes\n",
    "```"
   ]
  },
  {
   "cell_type": "code",
   "execution_count": 1,
   "id": "ae5a1bcf-3897-408f-b18a-c471e5e19546",
   "metadata": {},
   "outputs": [],
   "source": [
    "from __future__ import annotations\n",
    "import math\n",
    "from pprint import pprint"
   ]
  },
  {
   "cell_type": "code",
   "execution_count": 2,
   "id": "0f1d19a5-bd9d-49d0-9ca7-2c206c0d364b",
   "metadata": {},
   "outputs": [],
   "source": [
    "from syntheseus import Molecule, SingleProductReaction"
   ]
  },
  {
   "cell_type": "markdown",
   "id": "23fcbd26-c250-4d39-a92b-f0dd14e2f36f",
   "metadata": {},
   "source": [
    "## Step 0: make 2 example molecules for testing"
   ]
  },
  {
   "cell_type": "code",
   "execution_count": 3,
   "id": "20295725-3f0c-4feb-8863-63f8658a6f1a",
   "metadata": {},
   "outputs": [
    {
     "data": {
      "text/plain": [
       "(Molecule(smiles='c1ccccc1', identifier=None, metadata={}),\n",
       " Molecule(smiles='CCCCCCCCCC', identifier=None, metadata={}))"
      ]
     },
     "execution_count": 3,
     "metadata": {},
     "output_type": "execute_result"
    }
   ],
   "source": [
    "benzene = Molecule(\"c1ccccc1\", make_rdkit_mol=False)\n",
    "decane = Molecule(\"C\"*10, make_rdkit_mol=False)\n",
    "benzene, decane"
   ]
  },
  {
   "cell_type": "markdown",
   "id": "e470b5bb-ae52-40c4-a342-10af36be9a74",
   "metadata": {},
   "source": [
    "## Step 1: load PaRoutes reaction model, inventory, and target molecules\n",
    "\n",
    "There are two version of the PaRoutes benchmark,\n",
    "denoted by `n=1` and `n=5`.\n",
    "This notebook uses the `n=5` task by default,\n",
    "but this can be changed with the variable `PAROUTES_N`.\n",
    "We use version 2.0 of this benchmark which was released in late 2022."
   ]
  },
  {
   "cell_type": "code",
   "execution_count": 4,
   "id": "f0b82a83-fe8b-4d89-8e41-e9bb95860c22",
   "metadata": {},
   "outputs": [],
   "source": [
    "PAROUTES_N = 5"
   ]
  },
  {
   "cell_type": "code",
   "execution_count": 5,
   "id": "256ce92a-5f1f-48af-bc72-e6dfa60e318c",
   "metadata": {},
   "outputs": [
    {
     "name": "stdout",
     "output_type": "stream",
     "text": [
      "First few predicted reactions for decane:\n",
      "\n",
      "['CCCCCCCCCCCO>>CCCCCCCCCC',\n",
      " 'CCCCCCCCCCO>>CCCCCCCCCC',\n",
      " 'CCCCCCCCCCCCCCCC>>CCCCCCCCCC']\n",
      "\n",
      "\n",
      "\n",
      "First few predicted reactions for benzene:\n",
      "\n",
      "['Nc1ccccc1>>c1ccccc1', 'O=C(O)c1ccccc1>>c1ccccc1', 'Oc1ccccc1>>c1ccccc1']\n"
     ]
    }
   ],
   "source": [
    "# Load reaction model (same model for both `n`)\n",
    "from syntheseus_paroutes import PaRoutesModel\n",
    "reaction_model = PaRoutesModel(\n",
    "    use_cache=True  # IMPORTANT, since it will be used for search\n",
    ")  \n",
    "print(\"First few predicted reactions for decane:\\n\")\n",
    "pprint(list(map(str, reaction_model([decane], num_results=3)[0])))\n",
    "print(\"\\n\\n\\nFirst few predicted reactions for benzene:\\n\")\n",
    "pprint(list(map(str, reaction_model([benzene], num_results=3)[0])))"
   ]
  },
  {
   "cell_type": "code",
   "execution_count": 6,
   "id": "05361a34-92b9-4f42-84f9-13a0daf86747",
   "metadata": {},
   "outputs": [
    {
     "name": "stdout",
     "output_type": "stream",
     "text": [
      "Size of inventory: 13326\n",
      "First few molecules in inventory:\n",
      "[Molecule(smiles='N#Cc1ccc(F)c(Cl)c1', identifier=None, metadata={}),\n",
      " Molecule(smiles='CC=C(CC)c1ccc(F)cc1', identifier=None, metadata={}),\n",
      " Molecule(smiles='CS(=O)(=O)c1ccc(F)c(Br)c1', identifier=None, metadata={}),\n",
      " Molecule(smiles='Cc1cc(C=O)ccc1O', identifier=None, metadata={}),\n",
      " Molecule(smiles='CCOC(=O)[C@@H]1C[C@H]1C(=O)O', identifier=None, metadata={})]\n"
     ]
    }
   ],
   "source": [
    "# Load inventory and print some info\n",
    "from syntheseus_paroutes import PaRoutesInventory\n",
    "inventory = PaRoutesInventory(n=PAROUTES_N)\n",
    "print(f\"Size of inventory: {len(inventory.purchasable_mols())}\")\n",
    "print(\"First few molecules in inventory:\")\n",
    "pprint(list(inventory.purchasable_mols())[:5])"
   ]
  },
  {
   "cell_type": "code",
   "execution_count": 7,
   "id": "256137ca-e572-4840-a47f-9ab386799c5a",
   "metadata": {},
   "outputs": [
    {
     "name": "stdout",
     "output_type": "stream",
     "text": [
      "Number of test SMILES: 10000\n",
      "First test SMILES:\n",
      "['COc1ccc(F)c(-c2ccc(COc3cc(C(CC(=O)O)C4CC4)ccc3F)nc2CC(C)(C)C)c1',\n",
      " 'CCc1cc2nncc(N3CCc4[nH]nc(C(=O)NC5CC5)c4C3)c2cc1OC',\n",
      " 'Clc1ccc(-n2cncn2)c(Cc2nc3c(NCCC4CCCCN4)nccc3o2)c1',\n",
      " 'CCOCc1nc2c(N)nc3ccc(O)cc3c2n1CC(C)(C)NS(C)(=O)=O',\n",
      " 'O=C(O)CCNC(=O)c1nc(-c2ccncc2)c2c(cc(-c3ccccc3)c(=O)n2CC2CCCCC2)c1O']\n"
     ]
    }
   ],
   "source": [
    "# Load test smiles\n",
    "from syntheseus_paroutes import get_target_smiles_list\n",
    "test_smiles = get_target_smiles_list(n=PAROUTES_N)\n",
    "print(f\"Number of test SMILES: {len(test_smiles)}\")\n",
    "print(\"First test SMILES:\")\n",
    "pprint(test_smiles[:5])"
   ]
  },
  {
   "cell_type": "markdown",
   "id": "3359f01d-ddd1-4ad9-857e-9b93c787c074",
   "metadata": {},
   "source": [
    "## Step 2: set up algorithms"
   ]
  },
  {
   "cell_type": "code",
   "execution_count": 8,
   "id": "f25c0a2a-9bbc-4692-a384-93eb219d3261",
   "metadata": {},
   "outputs": [],
   "source": [
    "# Some constants for all algorithms\n",
    "RXN_MODEL_CALL_LIMIT = 100\n",
    "TIME_LIMIT_S = 300"
   ]
  },
  {
   "cell_type": "markdown",
   "id": "df4f6506-0dcd-4296-b590-994ea69e9fa3",
   "metadata": {},
   "source": [
    "### 2a: Retro-star\n",
    "\n",
    "Retro-star is a best-first search algorithm for AND/OR trees\n",
    "which tries to find minimum-cost routes.\n",
    "It requires 3 cost functions to be provided to the algorithm.\n",
    "\n",
    "1. A function to give the cost of each molecule (OrNode)\n",
    "2. A function to give the cost of each reaction (AndNode)\n",
    "3. A function to estimate the future cost to synthesize molecules, which is used as the search heuristic. This is called the \"reaction number\" in the original paper."
   ]
  },
  {
   "cell_type": "code",
   "execution_count": 9,
   "id": "1309f29d-d935-40f1-b673-67dfa2cd9b21",
   "metadata": {},
   "outputs": [],
   "source": [
    "from syntheseus.search.algorithms.best_first import retro_star\n",
    "from syntheseus.search.graph.and_or import AndNode, OrNode, AndOrGraph\n",
    "from syntheseus.search.node_evaluation.common import ReactionModelLogProbCost"
   ]
  },
  {
   "cell_type": "code",
   "execution_count": 10,
   "id": "c891cc66-016e-456b-ada5-5f9f980e07a2",
   "metadata": {},
   "outputs": [],
   "source": [
    "# 1: OrNode cost function.\n",
    "# We will follow the original paper and give molecules a\n",
    "# cost of 0 if they are purchasable, and a cost of infinity\n",
    "# otherwise. This class is provided as a default in retro_star.\n",
    "# If purchasable molecules have non-zero costs then a different\n",
    "# cost function could be used.\n",
    "\n",
    "or_node_cost_fn = retro_star.MolIsPurchasableCost()"
   ]
  },
  {
   "cell_type": "code",
   "execution_count": 11,
   "id": "b6e6d682-756a-4dcd-931b-097b27ca0ddd",
   "metadata": {},
   "outputs": [],
   "source": [
    "# 2: AndNode cost function\n",
    "# We will follow the original paper and define the cost of the\n",
    "# reaction as the -log(softmax) of the reaction model output,\n",
    "# thresholded at a minimum value. We use the built-in\n",
    "# `ReactionModelLogProbCost` class for this. This class simply\n",
    "# reads out the \"probability\" value from `reaction.metadata`,\n",
    "# which is provided by the PaRoutesModel.\n",
    "\n",
    "and_node_cost_fn = ReactionModelLogProbCost(normalize=False)"
   ]
  },
  {
   "cell_type": "code",
   "execution_count": 12,
   "id": "29e949b1-abc5-4514-aba7-7f86571425a8",
   "metadata": {},
   "outputs": [],
   "source": [
    "# 3: search heuristic (value function)\n",
    "# Here we just use a constant value function which is always 0,\n",
    "# corresponding to the \"retro*-0\" algorithm (the most optimistic).\n",
    "\n",
    "from syntheseus.search.node_evaluation.common import ConstantNodeEvaluator\n",
    "retro_star_value_function = ConstantNodeEvaluator(0.0)"
   ]
  },
  {
   "cell_type": "code",
   "execution_count": 13,
   "id": "2112a548-e2e1-4e85-873f-8654fac0b11f",
   "metadata": {},
   "outputs": [],
   "source": [
    "retro_star_alg = retro_star.RetroStarSearch(\n",
    "    reaction_model=reaction_model,\n",
    "    mol_inventory=inventory,\n",
    "    or_node_cost_fn=or_node_cost_fn,\n",
    "    and_node_cost_fn=and_node_cost_fn,\n",
    "    value_function=retro_star_value_function,\n",
    "    limit_reaction_model_calls=RXN_MODEL_CALL_LIMIT,\n",
    "    time_limit_s=TIME_LIMIT_S,\n",
    ")"
   ]
  },
  {
   "cell_type": "markdown",
   "id": "628e9336-3263-4dc3-991b-f62b2c1e6ac4",
   "metadata": {},
   "source": [
    "### 2b: MCTS\n",
    "\n",
    "MCTS is an RL algorithm that tries to find routes of maximum value.\n",
    "Standard MCTS works on an MDP where states are sets of molecules\n",
    "and actions are backward reactions.\n",
    "MCTS requires the following functions:\n",
    "\n",
    "1. A _reward function_ which defines the rewards for terminal states\n",
    "2. A _value function_ which estimates the rewards attainable from a state\n",
    "3. (optional, but very useful) a policy which assigns higher numbers to desirable actions"
   ]
  },
  {
   "cell_type": "code",
   "execution_count": 14,
   "id": "af997a32-1f39-4788-b88a-463d92b7c9c6",
   "metadata": {},
   "outputs": [],
   "source": [
    "from syntheseus.search.graph.molset import MolSetNode, MolSetGraph\n",
    "from syntheseus.search.node_evaluation.common import ReactionModelProbPolicy"
   ]
  },
  {
   "cell_type": "code",
   "execution_count": 15,
   "id": "aa02eecf-71c9-4f17-bc21-5df514e7d4a7",
   "metadata": {},
   "outputs": [],
   "source": [
    "# 1: reward function\n",
    "# Here we use the most basic reward: 1.0 if a state is solved\n",
    "# (all molecules are purchasable), and 0.0 otherwise.\n",
    "from syntheseus.search.node_evaluation.common import HasSolutionValueFunction\n",
    "\n",
    "mcts_reward_function = HasSolutionValueFunction()"
   ]
  },
  {
   "cell_type": "code",
   "execution_count": 16,
   "id": "5bfd9f29-58af-4dc5-b760-20ee65979777",
   "metadata": {},
   "outputs": [],
   "source": [
    "# 2: value function\n",
    "# While previous works have used rollouts,\n",
    "# for demonstration purposes we just use a constant value function of 0.5\n",
    "# (this number is chosen to be between the lowest and highest rewards of 0 & 1).\n",
    "\n",
    "mcts_value_function = ConstantNodeEvaluator(0.5)"
   ]
  },
  {
   "cell_type": "code",
   "execution_count": 17,
   "id": "d803a733-e39a-4cb5-83ac-c952a20b3d39",
   "metadata": {},
   "outputs": [],
   "source": [
    "# 3: policy\n",
    "# This could be anything, and would often be another neural network in RL.\n",
    "# However, for this example we just use the softmax values from the\n",
    "# reaction model, scaled by a temperature and normalized across the total\n",
    "# number of reactions (note: this implementation will always call the \n",
    "# policy on all of a node's children simultaneously).\n",
    "\n",
    "mcts_policy = ReactionModelProbPolicy(normalize=True, temperature=3.0)"
   ]
  },
  {
   "cell_type": "code",
   "execution_count": 18,
   "id": "4321240d-a248-4acb-9b28-706ef5bace14",
   "metadata": {},
   "outputs": [],
   "source": [
    "# Set up algorithm\n",
    "from syntheseus.search.algorithms.mcts.base import pucb_bound\n",
    "from syntheseus.search.algorithms.mcts.molset import MolSetMCTS\n",
    "mcts_alg = MolSetMCTS(\n",
    "    reaction_model=reaction_model,\n",
    "    mol_inventory=inventory,\n",
    "    reward_function=mcts_reward_function,\n",
    "    value_function=mcts_value_function,\n",
    "    policy=mcts_policy,\n",
    "    limit_reaction_model_calls=RXN_MODEL_CALL_LIMIT,\n",
    "    bound_constant=100.0,\n",
    "    bound_function=pucb_bound,\n",
    "    time_limit_s=TIME_LIMIT_S,\n",
    ")"
   ]
  },
  {
   "cell_type": "markdown",
   "id": "933ae569-8e5a-4109-876b-d4ebd18836eb",
   "metadata": {},
   "source": [
    "## Step 3: run algorithms and save results\n",
    "\n",
    "The main result needed for analysis is the output graph.\n",
    "We will save the results as pickle files.\n",
    "\n",
    "**NOTE:** we call `alg.reset()` before running both algorithms\n",
    "to reset the underlying reaction model cache. Otherwise,\n",
    "the algorithm which is run second will use the cached values \n",
    "from the first search instead of actually calling the reaction model,\n",
    "allowing it to run much faster. This is not necessarily a bad thing\n",
    "(in fact in production it might actually be beneficial), but for the\n",
    "purposes of comparing algorithms calling `reset()` ensures a fair comparsion."
   ]
  },
  {
   "cell_type": "code",
   "execution_count": 19,
   "id": "656bb71b-fabe-4b34-99cc-b0d9c43e65e9",
   "metadata": {},
   "outputs": [
    {
     "data": {
      "image/png": "[encoded data removed]",
      "text/plain": [
       "<rdkit.Chem.rdchem.Mol at 0x7f98a412d350>"
      ]
     },
     "execution_count": 19,
     "metadata": {},
     "output_type": "execute_result"
    }
   ],
   "source": [
    "target_mol = Molecule(test_smiles[100])\n",
    "target_mol.rdkit_mol"
   ]
  },
  {
   "cell_type": "code",
   "execution_count": 20,
   "id": "5af33f0f-daad-49ea-8d36-2d898fec07d6",
   "metadata": {},
   "outputs": [
    {
     "name": "stdout",
     "output_type": "stream",
     "text": [
      "CPU times: user 5.24 s, sys: 2.61 ms, total: 5.24 s\n",
      "Wall time: 5.23 s\n"
     ]
    }
   ],
   "source": [
    "%%time\n",
    "# Run retro-star\n",
    "retro_star_alg.reset()\n",
    "retro_star_search_graph, _ = retro_star_alg.run_from_mol(target_mol)"
   ]
  },
  {
   "cell_type": "code",
   "execution_count": 21,
   "id": "d6af0d40-c7fb-48d8-b63c-42762e46976d",
   "metadata": {},
   "outputs": [
    {
     "name": "stdout",
     "output_type": "stream",
     "text": [
      "CPU times: user 5.32 s, sys: 3.4 ms, total: 5.32 s\n",
      "Wall time: 5.27 s\n"
     ]
    }
   ],
   "source": [
    "%%time\n",
    "# Run MCTS\n",
    "mcts_alg.reset()\n",
    "mcts_search_graph, _ = mcts_alg.run_from_mol(target_mol)"
   ]
  },
  {
   "cell_type": "code",
   "execution_count": 22,
   "id": "2907cca5-c96c-473b-b257-c5f333685b95",
   "metadata": {},
   "outputs": [
    {
     "name": "stdout",
     "output_type": "stream",
     "text": [
      "retro star graph size: 17950\n",
      "mcts graph size: 6182\n"
     ]
    }
   ],
   "source": [
    "# Save graphs\n",
    "import pickle\n",
    "for graph, alg_name in [\n",
    "    (retro_star_search_graph, \"retro star\"),\n",
    "    (mcts_search_graph, \"mcts\")\n",
    "]:\n",
    "    print(f\"{alg_name} graph size: {len(graph)}\")\n",
    "    with open(f\"search-results-{alg_name}.pkl\", \"wb\") as f:\n",
    "        pickle.dump(graph, f)"
   ]
  },
  {
   "cell_type": "markdown",
   "id": "af20ffc6-183a-4133-98da-fdba978ad270",
   "metadata": {},
   "source": [
    "## Step 4: analyze search results\n"
   ]
  },
  {
   "cell_type": "code",
   "execution_count": 23,
   "id": "65fb455b-5d25-4545-ba77-d88700e193d7",
   "metadata": {},
   "outputs": [],
   "source": [
    "# Create a dict to easily reference both search graphs\n",
    "alg_name_to_graph = {\n",
    "    \"retro star\": retro_star_search_graph,\n",
    "    \"mcts\": mcts_search_graph,\n",
    "}"
   ]
  },
  {
   "cell_type": "markdown",
   "id": "8ae1c35a-cd8f-40f4-8a84-9d9f22ce7f07",
   "metadata": {},
   "source": [
    "### 4a: time at which a solution is found\n",
    "\n",
    "The code is written in a way where nodes keep track of their own\n",
    "creation time, so time-based measures can be computed retrospectively for\n",
    "many time measures\n",
    "(e.g. wallclock time, number of calls to reaction model).\n",
    "For any analysis involving time, we need to choose how time is measured,\n",
    "and this is left up to the user by filling in the `analysis_time` field of each node's data."
   ]
  },
  {
   "cell_type": "code",
   "execution_count": 24,
   "id": "97c1fb44-3344-4031-9301-654689f6fc2b",
   "metadata": {},
   "outputs": [],
   "source": [
    "for graph in alg_name_to_graph.values():\n",
    "    for node in graph.nodes():\n",
    "        \n",
    "        # Wallclock time: difference between this node's\n",
    "        # creation time and that of the root node\n",
    "        node.data[\"analysis_time\"] = (\n",
    "            node.creation_time - \n",
    "            graph.root_node.creation_time\n",
    "        ).total_seconds()\n",
    "        \n",
    "        # Could alternatively use number of calls to reaction model\n",
    "        # node.data[\"analysis_time\"] = node.data[\"num_calls_rxn_model\"]"
   ]
  },
  {
   "cell_type": "code",
   "execution_count": 25,
   "id": "cd66b4b2-df67-4e78-8b30-cbae073bf9d8",
   "metadata": {},
   "outputs": [
    {
     "name": "stdout",
     "output_type": "stream",
     "text": [
      "retro star first solution: 0.652155\n",
      "mcts first solution: 2.286357\n"
     ]
    }
   ],
   "source": [
    "# Now use a function to compute the first solution time\n",
    "from syntheseus.search.analysis.solution_time import get_first_solution_time\n",
    "for alg_name, graph in alg_name_to_graph.items():\n",
    "    print(f\"{alg_name} first solution: {get_first_solution_time(graph)}\")"
   ]
  },
  {
   "cell_type": "markdown",
   "id": "e7d8de5d-cebf-486d-89db-3cf1d38da3e7",
   "metadata": {},
   "source": [
    "### 4b: extract synthesis routes from the search graphs\n",
    "\n",
    "We extract individual synthesis routes from the graph\n",
    "in order to later calculate their diversity.\n",
    "However, there are many possible routes in a graph,\n",
    "possibly too many to exhaustively enumerate.\n",
    "Therefore we only extract the _minimum cost_ routes,\n",
    "where the cost of each route is the sum of `node.data[\"route_cost\"]` for each\n",
    "node in the route.\n",
    "This cost could be anything: a constant,\n",
    "something based on the policy, etc.\n",
    "It is up to the user to set a route's cost.\n",
    "Here we just assign a constant cost to each node which represents a reaction\n",
    "(i.e. AndNodes and MolSetNodes).\n",
    "This means that the lowest cost routes will be the shortest routes.\n",
    "\n",
    "We also limit the maximum number of routes extracted to speed up computation time."
   ]
  },
  {
   "cell_type": "code",
   "execution_count": 26,
   "id": "a8858c30-4e71-42bd-b4cc-69e2bf855dae",
   "metadata": {},
   "outputs": [],
   "source": [
    "for graph in alg_name_to_graph.values():\n",
    "    for node in graph.nodes():\n",
    "        \n",
    "        if isinstance(node, (AndNode, MolSetNode)):\n",
    "            node.data[\"route_cost\"] = 1.0\n",
    "        else:\n",
    "            node.data[\"route_cost\"] = 0.0"
   ]
  },
  {
   "cell_type": "code",
   "execution_count": 27,
   "id": "80c86fd0-cc95-4daa-bed2-83dcb7fec0bd",
   "metadata": {},
   "outputs": [
    {
     "name": "stdout",
     "output_type": "stream",
     "text": [
      "Found 10000 routes for retro star\n",
      "Found 14 routes for mcts\n",
      "CPU times: user 10.4 s, sys: 23.5 ms, total: 10.4 s\n",
      "Wall time: 10.4 s\n"
     ]
    }
   ],
   "source": [
    "%%time\n",
    "from syntheseus.search.analysis import route_extraction\n",
    "alg_name_to_routes = dict()\n",
    "for alg_name, graph in alg_name_to_graph.items():\n",
    "    routes = list(route_extraction.iter_routes_cost_order(graph, 10_000))\n",
    "    print(f\"Found {len(routes)} routes for {alg_name}\", flush=True)\n",
    "    alg_name_to_routes[alg_name] = routes\n",
    "    del routes"
   ]
  },
  {
   "cell_type": "code",
   "execution_count": 28,
   "id": "f7f427c0-fb49-4e99-ad40-1eb96c2f5f91",
   "metadata": {},
   "outputs": [],
   "source": [
    "# The routes can be visualized with the code below.\n",
    "from syntheseus.search import visualization\n",
    "\n",
    "visualization.visualize_andor(\n",
    "    alg_name_to_graph[\"retro star\"],\n",
    "    filename=\"retro star route.pdf\",\n",
    "    nodes=alg_name_to_routes[\"retro star\"][0]\n",
    ")\n",
    "\n",
    "visualization.visualize_molset(\n",
    "    alg_name_to_graph[\"mcts\"],\n",
    "    filename=\"mcts route.pdf\",\n",
    "    nodes=alg_name_to_routes[\"mcts\"][0]\n",
    ")"
   ]
  },
  {
   "cell_type": "markdown",
   "id": "ae2107ac-d200-42b0-9f05-5fbc01fc048f",
   "metadata": {},
   "source": [
    "### 4c: calculate diversity\n",
    "\n",
    "Specifically, we estimate the _packing number_ of the route set,\n",
    "i.e. the number of distinct routes which are greater than a distance $r$ away from each other.\n",
    "Here we use a stringent form of diversity: routes which have no common reactions,\n",
    "which means that their Jaccard distance is 1.\n",
    "To do this, we use the `to_synthesis_graph` method of each graph object\n",
    "which converts them into a common format.\n",
    "\n",
    "However, because we considered only a limited number of synthesis routes,\n",
    "the full diversity of routes from retro* might not be represented."
   ]
  },
  {
   "cell_type": "code",
   "execution_count": 29,
   "id": "bfdad9e4-1b92-4214-808e-7652a2e4cbea",
   "metadata": {},
   "outputs": [
    {
     "name": "stdout",
     "output_type": "stream",
     "text": [
      "retro star: number of distinct routes = 1\n",
      "mcts: number of distinct routes = 2\n"
     ]
    }
   ],
   "source": [
    "from syntheseus.search.analysis import diversity\n",
    "for alg_name, graph in alg_name_to_graph.items():\n",
    "    route_objects = [\n",
    "        graph.to_synthesis_graph(nodes)\n",
    "        for nodes in alg_name_to_routes[alg_name]\n",
    "    ]\n",
    "    packing_set = diversity.estimate_packing_number(\n",
    "        routes=route_objects,\n",
    "        distance_metric=diversity.reaction_jaccard_distance,\n",
    "        radius=0.999  # because comparison uses \">\", not \">=\"\n",
    "    )\n",
    "    print(f\"{alg_name}: number of distinct routes = {len(packing_set)}\")"
   ]
  }
 ],
 "metadata": {
  "kernelspec": {
   "display_name": "Python 3 (ipykernel)",
   "language": "python",
   "name": "python3"
  },
  "language_info": {
   "codemirror_mode": {
    "name": "ipython",
    "version": 3
   },
   "file_extension": ".py",
   "mimetype": "text/x-python",
   "name": "python",
   "nbconvert_exporter": "python",
   "pygments_lexer": "ipython3",
   "version": "3.9.7"
  }
 },
 "nbformat": 4,
 "nbformat_minor": 5
}
